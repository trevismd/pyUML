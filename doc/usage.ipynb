{
 "cells": [
  {
   "cell_type": "code",
   "execution_count": 1,
   "metadata": {},
   "outputs": [],
   "source": [
    "from pyUML import Graph, UMLClass"
   ]
  },
  {
   "cell_type": "code",
   "execution_count": 2,
   "metadata": {},
   "outputs": [],
   "source": [
    "def print_and_save(graph, name):\n",
    "    print(graph.to_string())\n",
    "    graph.write_raw(f\"{name}.dot\")\n",
    "    graph.write(f\"{name}.png\", \"dot\", \"png\")"
   ]
  },
  {
   "cell_type": "code",
   "execution_count": 3,
   "metadata": {
    "pycharm": {
     "name": "#%%\n"
    }
   },
   "outputs": [],
   "source": [
    "graph = Graph('pyUML')"
   ]
  },
  {
   "cell_type": "code",
   "execution_count": 4,
   "metadata": {
    "pycharm": {
     "name": "#%%\n"
    }
   },
   "outputs": [],
   "source": [
    "graph_dot = UMLClass(\n",
    "    \"pydot.Dot\"\n",
    ")"
   ]
  },
  {
   "cell_type": "code",
   "execution_count": 5,
   "metadata": {
    "pycharm": {
     "name": "#%%\n"
    }
   },
   "outputs": [],
   "source": [
    "graph.add_class(graph_dot)"
   ]
  },
  {
   "cell_type": "code",
   "execution_count": 6,
   "metadata": {
    "pycharm": {
     "name": "#%%\n"
    }
   },
   "outputs": [
    {
     "name": "stdout",
     "output_type": "stream",
     "text": [
      "digraph pyUML {\n",
      "\"pydot.Dot\" [label=\"{pydot.Dot||}\", shape=record];\n",
      "}\n",
      "\n"
     ]
    }
   ],
   "source": [
    "print_and_save(graph, \"dot_only\")"
   ]
  },
  {
   "cell_type": "markdown",
   "metadata": {
    "pycharm": {
     "name": "#%%md\n"
    }
   },
   "source": [
    "<img src=\"./dot_only.png\">"
   ]
  },
  {
   "cell_type": "code",
   "execution_count": 7,
   "metadata": {
    "pycharm": {
     "name": "#%%\n"
    }
   },
   "outputs": [
    {
     "name": "stdout",
     "output_type": "stream",
     "text": [
      "digraph pyUML {\n",
      "\"pydot.Dot\" [label=\"{pydot.Dot||}\", shape=record];\n",
      "GraphClass [label=\"{Graph||+ add_aggregation()\\l+ add_class()\\l+ add_classes()\\l+ add_composition()\\l+ add_edge()\\l+ add_implementation()\\l}\", shape=record];\n",
      "}\n",
      "\n"
     ]
    }
   ],
   "source": [
    "graph_class = UMLClass(\n",
    "    \"GraphClass\",\n",
    "    caption=\"Graph\",\n",
    "    methods=[\"add_aggregation()\", \"add_class()\", \"add_classes()\", \n",
    "             \"add_composition()\", \"add_edge()\", \"add_implementation()\"]\n",
    ")\n",
    "graph.add_classes(graph_class)\n",
    "print_and_save(graph, \"dot_and_graph\")"
   ]
  },
  {
   "cell_type": "markdown",
   "metadata": {
    "pycharm": {
     "name": "#%%md\n"
    }
   },
   "source": [
    "<img src=\"./dot_and_graph.png\">"
   ]
  },
  {
   "cell_type": "code",
   "execution_count": 8,
   "metadata": {},
   "outputs": [
    {
     "name": "stdout",
     "output_type": "stream",
     "text": [
      "digraph pyUML {\n",
      "\"pydot.Dot\" [label=\"{pydot.Dot||}\", shape=record];\n",
      "GraphClass [label=\"{Graph||+ add_aggregation()\\l+ add_class()\\l+ add_classes()\\l+ add_composition()\\l+ add_edge()\\l+ add_implementation()\\l}\", shape=record];\n",
      "\"pydot.Dot\" -> GraphClass  [arrowtail=onormal, dir=back];\n",
      "}\n",
      "\n"
     ]
    }
   ],
   "source": [
    "graph.add_implementation(graph_class, graph_dot)\n",
    "print_and_save(graph, \"graph_implements_dot\")"
   ]
  },
  {
   "cell_type": "markdown",
   "metadata": {
    "pycharm": {
     "name": "#%%md\n"
    }
   },
   "source": [
    "<img src=\"./graph_implements_dot.png\">"
   ]
  },
  {
   "cell_type": "code",
   "execution_count": 9,
   "metadata": {},
   "outputs": [
    {
     "name": "stdout",
     "output_type": "stream",
     "text": [
      "digraph pyUML {\n",
      "\"pydot.Dot\" [label=\"{pydot.Dot||}\", shape=record];\n",
      "GraphClass [label=\"{Graph||+ add_aggregation()\\l+ add_class()\\l+ add_classes()\\l+ add_composition()\\l+ add_edge()\\l+ add_implementation()\\l}\", shape=record];\n",
      "\"pydot.Dot\" -> GraphClass  [arrowtail=onormal, dir=back];\n",
      "\"pydot.Node\" [label=\"{pydot.Node||}\", shape=record];\n",
      "UMLClass [label=\"{UMLClass|+ name : string\\l+ caption : string\\l- _attributes : dict[dict]\\l- _methods : dict[list]\\l|+ add_attribute()\\l+ add_attributes()\\l+ add_method()\\l+ add_methods()\\l+ update_content()\\l- _render_attributes()\\l- _render_methods()\\l- _get_source_sep()\\l}\", shape=record];\n",
      "\"pydot.Node\" -> UMLClass  [arrowtail=onormal, dir=back];\n",
      "}\n",
      "\n"
     ]
    }
   ],
   "source": [
    "node = UMLClass(\n",
    "    \"pydot.Node\"\n",
    ")\n",
    "graph.add_class(node)\n",
    "uml_class = UMLClass(\n",
    "    \"UMLClass\",\n",
    "    attributes={\n",
    "        \"public\": {\n",
    "            \"name\": \"string\",\n",
    "            \"caption\": \"string\"},\n",
    "        \"private\": {\n",
    "            \"_attributes\": \"dict[dict]\",\n",
    "            \"_methods\": \"dict[list]\"\n",
    "        }\n",
    "    },\n",
    "    methods={\n",
    "        \"public\": [\"add_attribute()\", \"add_attributes()\", \"add_method()\",\n",
    "             \"add_methods()\", \"update_content()\"],\n",
    "        \"private\": [\"_render_attributes()\", \"_render_methods()\", \"_get_source_sep()\"]\n",
    "    })\n",
    "graph.add_class(uml_class)\n",
    "graph.add_implementation(uml_class, node)\n",
    "print_and_save(graph, \"with_UMLClass\")"
   ]
  },
  {
   "cell_type": "markdown",
   "metadata": {},
   "source": [
    "<img src=\"./with_UMLClass.png\">"
   ]
  },
  {
   "cell_type": "code",
   "execution_count": 10,
   "metadata": {},
   "outputs": [
    {
     "name": "stdout",
     "output_type": "stream",
     "text": [
      "digraph pyUML {\n",
      "\"pydot.Dot\" [label=\"{pydot.Dot||}\", shape=record];\n",
      "GraphClass [label=\"{Graph||+ add_aggregation()\\l+ add_class()\\l+ add_classes()\\l+ add_composition()\\l+ add_edge()\\l+ add_implementation()\\l}\", shape=record];\n",
      "\"pydot.Dot\" -> GraphClass  [arrowtail=onormal, dir=back];\n",
      "\"pydot.Node\" [label=\"{pydot.Node||}\", shape=record];\n",
      "UMLClass [label=\"{UMLClass|+ name : string\\l+ caption : string\\l- _attributes : dict[dict]\\l- _methods : dict[list]\\l|+ add_attribute()\\l+ add_attributes()\\l+ add_method()\\l+ add_methods()\\l+ update_content()\\l- _render_attributes()\\l- _render_methods()\\l- _get_source_sep()\\l}\", shape=record];\n",
      "\"pydot.Node\" -> UMLClass  [arrowtail=onormal, dir=back];\n",
      "UMLClassWithPublicIntID [label=\"{UMLClassWithPublicIntID||}\", shape=record];\n",
      "UMLClass -> UMLClassWithPublicIntID  [arrowtail=onormal, dir=back];\n",
      "}\n",
      "\n"
     ]
    }
   ],
   "source": [
    "uml_class_with_id = UMLClass(\n",
    "    \"UMLClassWithPublicIntID\")\n",
    "graph.add_class(uml_class_with_id)\n",
    "graph.add_implementation(uml_class_with_id, uml_class)\n",
    "print_and_save(graph, \"with_UMLClassWithPublicIntID\")"
   ]
  },
  {
   "cell_type": "markdown",
   "metadata": {},
   "source": [
    "<img src=\"./with_UMLClassWithPublicIntID.png\">"
   ]
  },
  {
   "cell_type": "code",
   "execution_count": 11,
   "metadata": {},
   "outputs": [
    {
     "name": "stdout",
     "output_type": "stream",
     "text": [
      "digraph pyUML {\n",
      "\"pydot.Dot\" [label=\"{pydot.Dot||}\", shape=record];\n",
      "GraphClass [label=\"{Graph||+ add_aggregation()\\l+ add_class()\\l+ add_classes()\\l+ add_composition()\\l+ add_edge()\\l+ add_implementation()\\l}\", shape=record];\n",
      "\"pydot.Dot\" -> GraphClass  [arrowtail=onormal, dir=back];\n",
      "\"pydot.Node\" [label=\"{pydot.Node||}\", shape=record];\n",
      "UMLClass [label=\"{UMLClass|+ name : string\\l+ caption : string\\l- _attributes : dict[dict]\\l- _methods : dict[list]\\l|+ add_attribute()\\l+ add_attributes()\\l+ add_method()\\l+ add_methods()\\l+ update_content()\\l- _render_attributes()\\l- _render_methods()\\l- _get_source_sep()\\l}\", shape=record];\n",
      "\"pydot.Node\" -> UMLClass  [arrowtail=onormal, dir=back];\n",
      "UMLClassWithPublicIntID [label=\"{UMLClassWithPublicIntID||}\", shape=record];\n",
      "UMLClass -> UMLClassWithPublicIntID  [arrowtail=onormal, dir=back];\n",
      "\"pydot.Edge\" [label=\"{pydot.Edge||}\", shape=record];\n",
      "Association [label=\"{Association||+ set_multiplicity()\\l}\", shape=record];\n",
      "Implementation [label=\"{Implementation||}\", shape=record];\n",
      "Aggregation [label=\"{Aggregation||}\", shape=record];\n",
      "Composition [label=\"{Composition||}\", shape=record];\n",
      "\"pydot.Edge\" -> Association  [arrowtail=onormal, dir=back];\n",
      "Association -> Implementation  [arrowtail=onormal, dir=back];\n",
      "Association -> Aggregation  [arrowtail=onormal, dir=back];\n",
      "Aggregation -> Composition  [arrowtail=onormal, dir=back];\n",
      "}\n",
      "\n"
     ]
    }
   ],
   "source": [
    "edge = UMLClass(\n",
    "    \"pydot.Edge\")\n",
    "association = UMLClass(\n",
    "    \"Association\",\n",
    "    methods=[\"set_multiplicity()\"])\n",
    "implementation = UMLClass(\n",
    "    \"Implementation\")\n",
    "aggregation = UMLClass(\n",
    "    \"Aggregation\")\n",
    "composition = UMLClass(\n",
    "    \"Composition\")\n",
    "graph.add_classes(edge, association, implementation, aggregation, composition)\n",
    "graph.add_implementation(association, edge)\n",
    "graph.add_implementation(implementation, association)\n",
    "graph.add_implementation(aggregation, association)\n",
    "graph.add_implementation(composition, aggregation)\n",
    "\n",
    "print_and_save(graph, \"with_associations\")"
   ]
  },
  {
   "cell_type": "markdown",
   "metadata": {},
   "source": [
    "<img src=\"./with_associations.png\"/>"
   ]
  },
  {
   "cell_type": "code",
   "execution_count": 12,
   "metadata": {
    "scrolled": false
   },
   "outputs": [
    {
     "name": "stdout",
     "output_type": "stream",
     "text": [
      "digraph pyUML {\n",
      "\"pydot.Dot\" [label=\"{pydot.Dot||}\", shape=record];\n",
      "GraphClass [label=\"{Graph||+ add_aggregation()\\l+ add_class()\\l+ add_classes()\\l+ add_composition()\\l+ add_edge()\\l+ add_implementation()\\l}\", shape=record];\n",
      "\"pydot.Dot\" -> GraphClass  [arrowtail=onormal, dir=back];\n",
      "\"pydot.Node\" [label=\"{pydot.Node||}\", shape=record];\n",
      "UMLClass [label=\"{UMLClass|+ name : string\\l+ caption : string\\l- _attributes : dict[dict]\\l- _methods : dict[list]\\l|+ add_attribute()\\l+ add_attributes()\\l+ add_method()\\l+ add_methods()\\l+ update_content()\\l- _render_attributes()\\l- _render_methods()\\l- _get_source_sep()\\l}\", shape=record];\n",
      "\"pydot.Node\" -> UMLClass  [arrowtail=onormal, dir=back];\n",
      "UMLClassWithPublicIntID [label=\"{UMLClassWithPublicIntID||}\", shape=record];\n",
      "UMLClass -> UMLClassWithPublicIntID  [arrowtail=onormal, dir=back];\n",
      "\"pydot.Edge\" [label=\"{pydot.Edge||}\", shape=record];\n",
      "Association [label=\"{Association||+ set_multiplicity()\\l}\", shape=record];\n",
      "Implementation [label=\"{Implementation||}\", shape=record];\n",
      "Aggregation [label=\"{Aggregation||}\", shape=record];\n",
      "Composition [label=\"{Composition||}\", shape=record];\n",
      "\"pydot.Edge\" -> Association  [arrowtail=onormal, dir=back];\n",
      "Association -> Implementation  [arrowtail=onormal, dir=back];\n",
      "Association -> Aggregation  [arrowtail=onormal, dir=back];\n",
      "Aggregation -> Composition  [arrowtail=onormal, dir=back];\n",
      "\"pydot.Dot\" -> \"pydot.Node\"  [arrowtail=diamond, dir=back, headlabel=\"\\n1..*\", taillabel=\"\\n1\"];\n",
      "\"pydot.Dot\" -> \"pydot.Edge\"  [arrowtail=diamond, dir=back, headlabel=\"\\n0..*\", taillabel=\"\\n1\"];\n",
      "GraphClass -> Association  [arrowtail=diamond, dir=back, headlabel=\"\\n0..*\", taillabel=\"\\n1\"];\n",
      "}\n",
      "\n"
     ]
    }
   ],
   "source": [
    "graph.add_composition(node, graph_dot, multiplicity_parent=1, multiplicity_child=\"1..*\")\n",
    "graph.add_composition(edge, graph_dot, multiplicity_parent=1, multiplicity_child=\"0..*\")\n",
    "graph.add_composition(association, graph_class, multiplicity_parent=1, multiplicity_child=\"0..*\")\n",
    "\n",
    "print_and_save(graph, \"with_compositions\")"
   ]
  },
  {
   "cell_type": "markdown",
   "metadata": {},
   "source": [
    "<img src=\"with_compositions.png\"/>"
   ]
  },
  {
   "cell_type": "code",
   "execution_count": 12,
   "metadata": {},
   "outputs": [],
   "source": []
  }
 ],
 "metadata": {
  "kernelspec": {
   "display_name": "Python 3 (ipykernel)",
   "language": "python",
   "name": "python3"
  },
  "language_info": {
   "codemirror_mode": {
    "name": "ipython",
    "version": 3
   },
   "file_extension": ".py",
   "mimetype": "text/x-python",
   "name": "python",
   "nbconvert_exporter": "python",
   "pygments_lexer": "ipython3",
   "version": "3.9.6"
  }
 },
 "nbformat": 4,
 "nbformat_minor": 1
}